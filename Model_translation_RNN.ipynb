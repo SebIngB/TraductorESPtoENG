{
  "nbformat": 4,
  "nbformat_minor": 0,
  "metadata": {
    "colab": {
      "provenance": [],
      "gpuType": "T4",
      "include_colab_link": true
    },
    "kernelspec": {
      "name": "python3",
      "display_name": "Python 3"
    },
    "language_info": {
      "name": "python"
    },
    "accelerator": "GPU"
  },
  "cells": [
    {
      "cell_type": "markdown",
      "metadata": {
        "id": "view-in-github",
        "colab_type": "text"
      },
      "source": [
        "<a href=\"https://colab.research.google.com/github/SebIngB/TraductorESPtoENG/blob/main/Model_translation_RNN.ipynb\" target=\"_parent\"><img src=\"https://colab.research.google.com/assets/colab-badge.svg\" alt=\"Open In Colab\"/></a>"
      ]
    },
    {
      "cell_type": "code",
      "execution_count": null,
      "metadata": {
        "colab": {
          "base_uri": "https://localhost:8080/"
        },
        "id": "sh6nG1cRcKmz",
        "outputId": "e1a12143-df3f-456e-d20d-b53b3e01290b"
      },
      "outputs": [
        {
          "output_type": "stream",
          "name": "stdout",
          "text": [
            "/bin/bash: nvidia-smi: command not found\n"
          ]
        }
      ],
      "source": [
        "!nvidia-smi"
      ]
    },
    {
      "cell_type": "code",
      "source": [
        "!pip install \"tensorflow-text>=2.11\"\n",
        "!pip install einops"
      ],
      "metadata": {
        "colab": {
          "base_uri": "https://localhost:8080/"
        },
        "id": "TQpEVpB9l8mx",
        "outputId": "44ffc906-0cc9-4865-b9bf-104c11487b51"
      },
      "execution_count": null,
      "outputs": [
        {
          "output_type": "stream",
          "name": "stdout",
          "text": [
            "Looking in indexes: https://pypi.org/simple, https://us-python.pkg.dev/colab-wheels/public/simple/\n",
            "Requirement already satisfied: tensorflow-text>=2.11 in /usr/local/lib/python3.10/dist-packages (2.12.1)\n",
            "Requirement already satisfied: tensorflow-hub>=0.8.0 in /usr/local/lib/python3.10/dist-packages (from tensorflow-text>=2.11) (0.13.0)\n",
            "Requirement already satisfied: tensorflow<2.13,>=2.12.0 in /usr/local/lib/python3.10/dist-packages (from tensorflow-text>=2.11) (2.12.0)\n",
            "Requirement already satisfied: absl-py>=1.0.0 in /usr/local/lib/python3.10/dist-packages (from tensorflow<2.13,>=2.12.0->tensorflow-text>=2.11) (1.4.0)\n",
            "Requirement already satisfied: astunparse>=1.6.0 in /usr/local/lib/python3.10/dist-packages (from tensorflow<2.13,>=2.12.0->tensorflow-text>=2.11) (1.6.3)\n",
            "Requirement already satisfied: flatbuffers>=2.0 in /usr/local/lib/python3.10/dist-packages (from tensorflow<2.13,>=2.12.0->tensorflow-text>=2.11) (23.3.3)\n",
            "Requirement already satisfied: gast<=0.4.0,>=0.2.1 in /usr/local/lib/python3.10/dist-packages (from tensorflow<2.13,>=2.12.0->tensorflow-text>=2.11) (0.4.0)\n",
            "Requirement already satisfied: google-pasta>=0.1.1 in /usr/local/lib/python3.10/dist-packages (from tensorflow<2.13,>=2.12.0->tensorflow-text>=2.11) (0.2.0)\n",
            "Requirement already satisfied: grpcio<2.0,>=1.24.3 in /usr/local/lib/python3.10/dist-packages (from tensorflow<2.13,>=2.12.0->tensorflow-text>=2.11) (1.54.0)\n",
            "Requirement already satisfied: h5py>=2.9.0 in /usr/local/lib/python3.10/dist-packages (from tensorflow<2.13,>=2.12.0->tensorflow-text>=2.11) (3.8.0)\n",
            "Requirement already satisfied: jax>=0.3.15 in /usr/local/lib/python3.10/dist-packages (from tensorflow<2.13,>=2.12.0->tensorflow-text>=2.11) (0.4.10)\n",
            "Requirement already satisfied: keras<2.13,>=2.12.0 in /usr/local/lib/python3.10/dist-packages (from tensorflow<2.13,>=2.12.0->tensorflow-text>=2.11) (2.12.0)\n",
            "Requirement already satisfied: libclang>=13.0.0 in /usr/local/lib/python3.10/dist-packages (from tensorflow<2.13,>=2.12.0->tensorflow-text>=2.11) (16.0.0)\n",
            "Requirement already satisfied: numpy<1.24,>=1.22 in /usr/local/lib/python3.10/dist-packages (from tensorflow<2.13,>=2.12.0->tensorflow-text>=2.11) (1.22.4)\n",
            "Requirement already satisfied: opt-einsum>=2.3.2 in /usr/local/lib/python3.10/dist-packages (from tensorflow<2.13,>=2.12.0->tensorflow-text>=2.11) (3.3.0)\n",
            "Requirement already satisfied: packaging in /usr/local/lib/python3.10/dist-packages (from tensorflow<2.13,>=2.12.0->tensorflow-text>=2.11) (23.1)\n",
            "Requirement already satisfied: protobuf!=4.21.0,!=4.21.1,!=4.21.2,!=4.21.3,!=4.21.4,!=4.21.5,<5.0.0dev,>=3.20.3 in /usr/local/lib/python3.10/dist-packages (from tensorflow<2.13,>=2.12.0->tensorflow-text>=2.11) (3.20.3)\n",
            "Requirement already satisfied: setuptools in /usr/local/lib/python3.10/dist-packages (from tensorflow<2.13,>=2.12.0->tensorflow-text>=2.11) (67.7.2)\n",
            "Requirement already satisfied: six>=1.12.0 in /usr/local/lib/python3.10/dist-packages (from tensorflow<2.13,>=2.12.0->tensorflow-text>=2.11) (1.16.0)\n",
            "Requirement already satisfied: tensorboard<2.13,>=2.12 in /usr/local/lib/python3.10/dist-packages (from tensorflow<2.13,>=2.12.0->tensorflow-text>=2.11) (2.12.2)\n",
            "Requirement already satisfied: tensorflow-estimator<2.13,>=2.12.0 in /usr/local/lib/python3.10/dist-packages (from tensorflow<2.13,>=2.12.0->tensorflow-text>=2.11) (2.12.0)\n",
            "Requirement already satisfied: termcolor>=1.1.0 in /usr/local/lib/python3.10/dist-packages (from tensorflow<2.13,>=2.12.0->tensorflow-text>=2.11) (2.3.0)\n",
            "Requirement already satisfied: typing-extensions>=3.6.6 in /usr/local/lib/python3.10/dist-packages (from tensorflow<2.13,>=2.12.0->tensorflow-text>=2.11) (4.5.0)\n",
            "Requirement already satisfied: wrapt<1.15,>=1.11.0 in /usr/local/lib/python3.10/dist-packages (from tensorflow<2.13,>=2.12.0->tensorflow-text>=2.11) (1.14.1)\n",
            "Requirement already satisfied: tensorflow-io-gcs-filesystem>=0.23.1 in /usr/local/lib/python3.10/dist-packages (from tensorflow<2.13,>=2.12.0->tensorflow-text>=2.11) (0.32.0)\n",
            "Requirement already satisfied: wheel<1.0,>=0.23.0 in /usr/local/lib/python3.10/dist-packages (from astunparse>=1.6.0->tensorflow<2.13,>=2.12.0->tensorflow-text>=2.11) (0.40.0)\n",
            "Requirement already satisfied: ml-dtypes>=0.1.0 in /usr/local/lib/python3.10/dist-packages (from jax>=0.3.15->tensorflow<2.13,>=2.12.0->tensorflow-text>=2.11) (0.1.0)\n",
            "Requirement already satisfied: scipy>=1.7 in /usr/local/lib/python3.10/dist-packages (from jax>=0.3.15->tensorflow<2.13,>=2.12.0->tensorflow-text>=2.11) (1.10.1)\n",
            "Requirement already satisfied: google-auth<3,>=1.6.3 in /usr/local/lib/python3.10/dist-packages (from tensorboard<2.13,>=2.12->tensorflow<2.13,>=2.12.0->tensorflow-text>=2.11) (2.17.3)\n",
            "Requirement already satisfied: google-auth-oauthlib<1.1,>=0.5 in /usr/local/lib/python3.10/dist-packages (from tensorboard<2.13,>=2.12->tensorflow<2.13,>=2.12.0->tensorflow-text>=2.11) (1.0.0)\n",
            "Requirement already satisfied: markdown>=2.6.8 in /usr/local/lib/python3.10/dist-packages (from tensorboard<2.13,>=2.12->tensorflow<2.13,>=2.12.0->tensorflow-text>=2.11) (3.4.3)\n",
            "Requirement already satisfied: requests<3,>=2.21.0 in /usr/local/lib/python3.10/dist-packages (from tensorboard<2.13,>=2.12->tensorflow<2.13,>=2.12.0->tensorflow-text>=2.11) (2.27.1)\n",
            "Requirement already satisfied: tensorboard-data-server<0.8.0,>=0.7.0 in /usr/local/lib/python3.10/dist-packages (from tensorboard<2.13,>=2.12->tensorflow<2.13,>=2.12.0->tensorflow-text>=2.11) (0.7.0)\n",
            "Requirement already satisfied: tensorboard-plugin-wit>=1.6.0 in /usr/local/lib/python3.10/dist-packages (from tensorboard<2.13,>=2.12->tensorflow<2.13,>=2.12.0->tensorflow-text>=2.11) (1.8.1)\n",
            "Requirement already satisfied: werkzeug>=1.0.1 in /usr/local/lib/python3.10/dist-packages (from tensorboard<2.13,>=2.12->tensorflow<2.13,>=2.12.0->tensorflow-text>=2.11) (2.3.0)\n",
            "Requirement already satisfied: cachetools<6.0,>=2.0.0 in /usr/local/lib/python3.10/dist-packages (from google-auth<3,>=1.6.3->tensorboard<2.13,>=2.12->tensorflow<2.13,>=2.12.0->tensorflow-text>=2.11) (5.3.0)\n",
            "Requirement already satisfied: pyasn1-modules>=0.2.1 in /usr/local/lib/python3.10/dist-packages (from google-auth<3,>=1.6.3->tensorboard<2.13,>=2.12->tensorflow<2.13,>=2.12.0->tensorflow-text>=2.11) (0.3.0)\n",
            "Requirement already satisfied: rsa<5,>=3.1.4 in /usr/local/lib/python3.10/dist-packages (from google-auth<3,>=1.6.3->tensorboard<2.13,>=2.12->tensorflow<2.13,>=2.12.0->tensorflow-text>=2.11) (4.9)\n",
            "Requirement already satisfied: requests-oauthlib>=0.7.0 in /usr/local/lib/python3.10/dist-packages (from google-auth-oauthlib<1.1,>=0.5->tensorboard<2.13,>=2.12->tensorflow<2.13,>=2.12.0->tensorflow-text>=2.11) (1.3.1)\n",
            "Requirement already satisfied: urllib3<1.27,>=1.21.1 in /usr/local/lib/python3.10/dist-packages (from requests<3,>=2.21.0->tensorboard<2.13,>=2.12->tensorflow<2.13,>=2.12.0->tensorflow-text>=2.11) (1.26.15)\n",
            "Requirement already satisfied: certifi>=2017.4.17 in /usr/local/lib/python3.10/dist-packages (from requests<3,>=2.21.0->tensorboard<2.13,>=2.12->tensorflow<2.13,>=2.12.0->tensorflow-text>=2.11) (2022.12.7)\n",
            "Requirement already satisfied: charset-normalizer~=2.0.0 in /usr/local/lib/python3.10/dist-packages (from requests<3,>=2.21.0->tensorboard<2.13,>=2.12->tensorflow<2.13,>=2.12.0->tensorflow-text>=2.11) (2.0.12)\n",
            "Requirement already satisfied: idna<4,>=2.5 in /usr/local/lib/python3.10/dist-packages (from requests<3,>=2.21.0->tensorboard<2.13,>=2.12->tensorflow<2.13,>=2.12.0->tensorflow-text>=2.11) (3.4)\n",
            "Requirement already satisfied: MarkupSafe>=2.1.1 in /usr/local/lib/python3.10/dist-packages (from werkzeug>=1.0.1->tensorboard<2.13,>=2.12->tensorflow<2.13,>=2.12.0->tensorflow-text>=2.11) (2.1.2)\n",
            "Requirement already satisfied: pyasn1<0.6.0,>=0.4.6 in /usr/local/lib/python3.10/dist-packages (from pyasn1-modules>=0.2.1->google-auth<3,>=1.6.3->tensorboard<2.13,>=2.12->tensorflow<2.13,>=2.12.0->tensorflow-text>=2.11) (0.5.0)\n",
            "Requirement already satisfied: oauthlib>=3.0.0 in /usr/local/lib/python3.10/dist-packages (from requests-oauthlib>=0.7.0->google-auth-oauthlib<1.1,>=0.5->tensorboard<2.13,>=2.12->tensorflow<2.13,>=2.12.0->tensorflow-text>=2.11) (3.2.2)\n",
            "Looking in indexes: https://pypi.org/simple, https://us-python.pkg.dev/colab-wheels/public/simple/\n",
            "Requirement already satisfied: einops in /usr/local/lib/python3.10/dist-packages (0.6.1)\n"
          ]
        }
      ]
    },
    {
      "cell_type": "markdown",
      "source": [
        "## Imports"
      ],
      "metadata": {
        "id": "J7amP8ujeLN6"
      }
    },
    {
      "cell_type": "code",
      "source": [
        "import numpy as np\n",
        "import matplotlib.pyplot as plt\n",
        "import matplotlib.ticker as ticker\n",
        "import tensorflow as tf\n",
        "import tensorflow_text as tf_text\n",
        "import einops\n",
        "\n",
        "from tensorflow.keras.models import Model\n",
        "from tensorflow.keras.layers import Dense, Input, GRU, Embedding\n",
        "from tensorflow.keras.utils import plot_model"
      ],
      "metadata": {
        "id": "bkvsAVWNeKj2"
      },
      "execution_count": null,
      "outputs": []
    },
    {
      "cell_type": "markdown",
      "source": [
        "Verifica la coherencia de las dimensiones, donde se busca mantener un cache de las dimensiones adecuadas"
      ],
      "metadata": {
        "id": "rSuTamoTLMCS"
      }
    },
    {
      "cell_type": "code",
      "execution_count": null,
      "metadata": {
        "id": "KqFqKi4fqN9X"
      },
      "outputs": [],
      "source": [
        "#@title\n",
        "class ShapeChecker():\n",
        "  def __init__(self):\n",
        "    # Keep a cache of every axis-name seen\n",
        "    self.shapes = {}\n",
        "\n",
        "  def __call__(self, tensor, names, broadcast=False):\n",
        "    if not tf.executing_eagerly():\n",
        "      return\n",
        "\n",
        "    parsed = einops.parse_shape(tensor, names)\n",
        "\n",
        "    for name, new_dim in parsed.items():\n",
        "      old_dim = self.shapes.get(name, None)\n",
        "\n",
        "      if (broadcast and new_dim == 1):\n",
        "        continue\n",
        "\n",
        "      if old_dim is None:\n",
        "        # If the axis name is new, add its length to the cache.\n",
        "        self.shapes[name] = new_dim\n",
        "        continue\n",
        "\n",
        "      if new_dim != old_dim:\n",
        "        raise ValueError(f\"Shape mismatch for dimension: '{name}'\\n\"\n",
        "                         f\"    found: {new_dim}\\n\"\n",
        "                         f\"    expected: {old_dim}\\n\")"
      ]
    },
    {
      "cell_type": "code",
      "execution_count": null,
      "metadata": {
        "id": "kRVATYOgJs1b"
      },
      "outputs": [],
      "source": [
        "# Download the file\n",
        "import pathlib\n",
        "\n",
        "path_to_zip = tf.keras.utils.get_file(\n",
        "    'spa-eng.zip', origin='http://storage.googleapis.com/download.tensorflow.org/data/spa-eng.zip',\n",
        "    extract=True)\n",
        "\n",
        "path_to_file = pathlib.Path(path_to_zip).parent/'spa-eng/spa.txt'"
      ]
    },
    {
      "cell_type": "code",
      "execution_count": null,
      "metadata": {
        "id": "OHn4Dct23jEm"
      },
      "outputs": [],
      "source": [
        "def load_data(path):\n",
        "  text = path.read_text(encoding='utf-8')\n",
        "\n",
        "  lines = text.splitlines()\n",
        "  pairs = [line.split('\\t') for line in lines]\n",
        "\n",
        "  context = np.array([context for target, context in pairs])\n",
        "  target = np.array([target for target, context in pairs])\n",
        "\n",
        "  return target, context"
      ]
    },
    {
      "cell_type": "code",
      "execution_count": null,
      "metadata": {
        "id": "cTbSbBz55QtF"
      },
      "outputs": [],
      "source": [
        "target_raw, context_raw = load_data(path_to_file)"
      ]
    },
    {
      "cell_type": "code",
      "execution_count": null,
      "metadata": {
        "id": "lH_dPY8TRp3c",
        "colab": {
          "base_uri": "https://localhost:8080/"
        },
        "outputId": "0aff5b7f-dca6-4dbd-c00b-1a0c22644ec8"
      },
      "outputs": [
        {
          "output_type": "stream",
          "name": "stdout",
          "text": [
            "118964\n",
            "118964\n"
          ]
        }
      ],
      "source": [
        "print(len(context_raw))\n",
        "print(len(target_raw))"
      ]
    },
    {
      "cell_type": "code",
      "execution_count": null,
      "metadata": {
        "id": "3rZFgz69nMPa"
      },
      "outputs": [],
      "source": [
        "random_mix_size = len(context_raw) #Tamaño de la mezcla aleatoria del dataset, donde si es igual al tamaño del conjunto de datos, todos los datos tendra la misma probabilidad de seleccionarse en cada iteración\n",
        "BATCH_SIZE = 64 # Tamaño del lote de los elementos del dataset que se van agrupar\n",
        "\n",
        "is_train = np.random.uniform(size=(len(target_raw),)) < 0.8 #Generación aleatoria de la cantidad de datos de train a usar, donde se selecciona el 80% de los datos para el entrenamiento\n",
        "\n",
        "train_raw = (\n",
        "    tf.data.Dataset\n",
        "    .from_tensor_slices((context_raw[is_train], target_raw[is_train])) #Creación del conjunto de datos apartir de Tensorflow donde van a estar el 80% de los datos para entrenamiento\n",
        "    .shuffle(random_mix_size) # Mezcla aleatoriamente los elementos del conjunto de datos, dando la misma probabilidad a todos los elementos\n",
        "    .batch(BATCH_SIZE)) # Agrupa los elementos del conjunto de datos en lotes más pequeños\n",
        "\n",
        "val_raw = (\n",
        "    tf.data.Dataset\n",
        "    .from_tensor_slices((context_raw[~is_train], target_raw[~is_train]))#Creación del conjunto de datos apartir de Tensorflow donde van a estar el 20% de los datos para testeo\n",
        "    .shuffle(random_mix_size)\n",
        "    .batch(BATCH_SIZE))"
      ]
    },
    {
      "cell_type": "code",
      "execution_count": null,
      "metadata": {
        "id": "qc6-NK1GtWQt",
        "colab": {
          "base_uri": "https://localhost:8080/"
        },
        "outputId": "c1ff8c2d-9f36-474d-83f8-c6b4174a268f"
      },
      "outputs": [
        {
          "output_type": "stream",
          "name": "stdout",
          "text": [
            "64\n",
            "\n",
            "64\n"
          ]
        }
      ],
      "source": [
        "for example_context_strings, example_target_strings in train_raw.take(2): #take() toma cada lote del conjunto de datos de entrenamiento\n",
        "  print(len(example_context_strings))\n",
        "  print()\n",
        "  print(len(example_target_strings))\n",
        "  break"
      ]
    },
    {
      "cell_type": "code",
      "source": [
        "print(example_context_strings[:10].numpy(), '\\n')\n",
        "print(example_target_strings[:10].numpy())"
      ],
      "metadata": {
        "colab": {
          "base_uri": "https://localhost:8080/"
        },
        "id": "G6gjrAoBHMf7",
        "outputId": "699bb29f-f7a3-4b22-f83e-2f64a66497d2"
      },
      "execution_count": null,
      "outputs": [
        {
          "output_type": "stream",
          "name": "stdout",
          "text": [
            "[b'No hay se\\xc3\\xb1ales de vida en Marte.'\n",
            " b'Debe de ser dif\\xc3\\xadcil para vosotras.'\n",
            " b'Le agradezco mucho por su ayuda.'\n",
            " b'Tom\\xc3\\xa1s quiere mudarse aqu\\xc3\\xad.' b'Esto es muy arriesgado.'\n",
            " b'Estoy de acuerdo.' b'No significa nada.' b'Haz que suceda.'\n",
            " b'Te quiero tomar la temperatura.'\n",
            " b'Hoy d\\xc3\\xada estoy realmente cansado.'] \n",
            "\n",
            "[b'There is no sign of life on Mars.' b'It must be hard for you.'\n",
            " b'I am grateful to you for your help.' b'Tom wants to move here.'\n",
            " b'This is very risky.' b'I agree.' b\"It doesn't have any significance.\"\n",
            " b'Make it happen.' b'I want to take your temperature.'\n",
            " b\"I'm really tired today.\"]\n"
          ]
        }
      ]
    },
    {
      "cell_type": "code",
      "execution_count": null,
      "metadata": {
        "id": "mD0e-DWGQ2Vo",
        "colab": {
          "base_uri": "https://localhost:8080/"
        },
        "outputId": "9acdddfe-102e-464b-bb56-da84fc39326f"
      },
      "outputs": [
        {
          "output_type": "stream",
          "name": "stdout",
          "text": [
            "b'\\xc2\\xbfTodav\\xc3\\xada est\\xc3\\xa1 en casa?'\n",
            "b'\\xc2\\xbfTodavi\\xcc\\x81a esta\\xcc\\x81 en casa?'\n"
          ]
        }
      ],
      "source": [
        "example_text = tf.constant('¿Todavía está en casa?') #Se utiliza para mantener fijo el texto e inmutable, que no se puede modificar el contenido, en este caso el texto\n",
        "\n",
        "print(example_text.numpy()) # Se realiza la representación del texto en una cadena de bytes con el numpy()\n",
        "print(tf_text.normalize_utf8(example_text, 'NFKD').numpy())"
      ]
    },
    {
      "cell_type": "markdown",
      "source": [
        "-> **tf_text.normalize_utf8(example_text, 'NFKD').numpy()** => Normaliza el texto por medio de Unicode NFKD que se utiliza para descomponer los caracteres del texto especiales en sus formas basicas y se realiza la normalización Unicode de dichos caracteres para que tengan equivalencia donde algunos caracteres tienen la misma apariencia o significado pero se representan de forma distinta, por lo que toca colocarlos en una forma unificada/universal."
      ],
      "metadata": {
        "id": "NNao_sp5x3vk"
      }
    },
    {
      "cell_type": "code",
      "execution_count": null,
      "metadata": {
        "id": "chTF5N885F0P"
      },
      "outputs": [],
      "source": [
        "def tf_lower_and_split_punct(text):\n",
        "  # Split accented characters.\n",
        "  text = tf_text.normalize_utf8(text, 'NFKD') #Aplica la normalización a la cadena de texto\n",
        "  text = tf.strings.lower(text) #Convierte la cadena de texto que tengan mayusculas a minusculas\n",
        "\n",
        "  # Keep space, a to z, and select punctuation.\n",
        "  text = tf.strings.regex_replace(text, '[^ a-z.?!,¿]', '') # Reemplaza la cadena de texto por espacios en blanco excepto a los caracteres [^ a-z.?!,¿] por lo que el resto se eliminaran\n",
        "\n",
        "  # Add spaces around punctuation.\n",
        "  text = tf.strings.regex_replace(text, '[.?!,¿]', r' \\0 ') # Agrega espacios antes y despues de los caracteres '[.?!,¿]', y es debido a que se esta utilizando r' \\0 ' el encargado de agregar espacios antes y despues\n",
        "\n",
        "  # Strip whitespace.\n",
        "  text = tf.strings.strip(text) # Elimina los espacios al inicio y al final de una cadena de texto\n",
        "\n",
        "  text = tf.strings.join(['[START]', text, '[END]'], separator=' ') # Agrega [START] al inicio y [END] al final de la cadena de texto y los separa por espacio\n",
        "  return text"
      ]
    },
    {
      "cell_type": "code",
      "execution_count": null,
      "metadata": {
        "id": "UREvDg3sEKYa",
        "colab": {
          "base_uri": "https://localhost:8080/"
        },
        "outputId": "ed779f6a-3cfc-4537-f964-90b1dd262884"
      },
      "outputs": [
        {
          "output_type": "stream",
          "name": "stdout",
          "text": [
            "tf.Tensor(b'\\xc2\\xbfTodav\\xc3\\xada est\\xc3\\xa1 en casa?', shape=(), dtype=string)\n",
            "tf.Tensor(b'[START] \\xc2\\xbf todavia esta en casa ? [END]', shape=(), dtype=string)\n"
          ]
        }
      ],
      "source": [
        "print(example_text) # decode() decodifica la cadena de texto\n",
        "print(tf_lower_and_split_punct(example_text))"
      ]
    },
    {
      "cell_type": "markdown",
      "source": [
        "Ahora se va a volver la cadena de texto normalizada en formato vectorial de tokens, donde se utiliza lo siguiente:\n",
        "\n",
        "-> tf.keras.layers.TextVectorization => Se utiliza para vectorizar la cadena de texto donde cada numero representa un token único del texto donde dicho texto se reprsenta por medio de un numero entero, donde le proporciono el metodo de estandarización del texto, y el maximo de tokens que se crearan.\n",
        "\n",
        "El token '[UNK]' representa las palabras desconocidas que no se encuentran dentro del vocabulario"
      ],
      "metadata": {
        "id": "1MNftz1T8UH7"
      }
    },
    {
      "cell_type": "code",
      "execution_count": null,
      "metadata": {
        "id": "eAY9k49G3jE_"
      },
      "outputs": [],
      "source": [
        "max_vocab_size = 5000 # Tamaño maximo de tokens que se van a crear\n",
        "\n",
        "context_text_processor = tf.keras.layers.TextVectorization(\n",
        "    standardize=tf_lower_and_split_punct,\n",
        "    max_tokens=max_vocab_size,\n",
        "    ragged=True) # Se le indica que son longitudes de texto irregular, por lo que varia"
      ]
    },
    {
      "cell_type": "code",
      "execution_count": null,
      "metadata": {
        "id": "bmsI1Yql8FYe",
        "colab": {
          "base_uri": "https://localhost:8080/"
        },
        "outputId": "c1de90d4-4b77-43e7-da1b-ec2d6489f552"
      },
      "outputs": [
        {
          "output_type": "stream",
          "name": "stdout",
          "text": [
            "['', '[UNK]', '[START]', '[END]', '.', 'que', 'de', 'el', 'a', 'no']\n",
            "5000\n"
          ]
        }
      ],
      "source": [
        "context_text_processor.adapt(train_raw.map(lambda context, target: context)) # Se utiliza el metodo adapt para pasar el conjuto de datos de entrenamiento. Se utiliza el metodo map para aplicar una función a cada elemento\n",
        "                                                                             # del conjunto de datos, en este caso es seleccionar solo el context de los datos de entrenamiento\n",
        "# Here are the first 10 words from the vocabulary:\n",
        "print(context_text_processor.get_vocabulary()[:10]) #Obtengo los valores de texto de los tokens\n",
        "print(len(context_text_processor.get_vocabulary()))"
      ]
    },
    {
      "cell_type": "code",
      "execution_count": null,
      "metadata": {
        "id": "jlC4xuZnKLBS",
        "colab": {
          "base_uri": "https://localhost:8080/"
        },
        "outputId": "bbdec98f-c56a-469b-8535-474cabc9d08f"
      },
      "outputs": [
        {
          "output_type": "execute_result",
          "data": {
            "text/plain": [
              "['', '[UNK]', '[START]', '[END]', '.', 'the', 'i', 'to', 'you', 'tom']"
            ]
          },
          "metadata": {},
          "execution_count": 17
        }
      ],
      "source": [
        "target_text_processor = tf.keras.layers.TextVectorization(\n",
        "    standardize=tf_lower_and_split_punct,\n",
        "    max_tokens=max_vocab_size,\n",
        "    ragged=True)\n",
        "\n",
        "target_text_processor.adapt(train_raw.map(lambda context, target: target))\n",
        "target_text_processor.get_vocabulary()[:10]"
      ]
    },
    {
      "cell_type": "code",
      "execution_count": null,
      "metadata": {
        "id": "9KZxj8IrNZ9S",
        "colab": {
          "base_uri": "https://localhost:8080/"
        },
        "outputId": "671abb31-7743-460c-e28c-d297c8b460e7"
      },
      "outputs": [
        {
          "output_type": "stream",
          "name": "stdout",
          "text": [
            "<tf.RaggedTensor [[2, 9, 60, 4051, 6, 148, 14, 4831, 4, 3],\n",
            " [2, 304, 6, 81, 205, 32, 1962, 4, 3],\n",
            " [2, 28, 2489, 77, 21, 25, 209, 4, 3]]>\n",
            "[array([   2,    9,   60, 4051,    6,  148,   14, 4831,    4,    3])\n",
            " array([   2,  304,    6,   81,  205,   32, 1962,    4,    3])\n",
            " array([   2,   28, 2489,   77,   21,   25,  209,    4,    3])]\n"
          ]
        }
      ],
      "source": [
        "example_tokens = context_text_processor(example_context_strings) # Procesa los datos de ejemplo de contexto de entrenamiento\n",
        "print(example_tokens[:3])\n",
        "print(example_tokens[:3].numpy())"
      ]
    },
    {
      "cell_type": "code",
      "execution_count": null,
      "metadata": {
        "id": "98g9rcxGQY0I",
        "colab": {
          "base_uri": "https://localhost:8080/",
          "height": 87
        },
        "outputId": "ee2ebb0f-372e-4406-eebf-fcf414c83cb7"
      },
      "outputs": [
        {
          "output_type": "stream",
          "name": "stdout",
          "text": [
            "['' '[UNK]' '[START]' '[END]' '.' 'que' 'de' 'el' 'a' 'no']\n",
            "[   2    9   60 4051    6  148   14 4831    4    3]\n",
            "['[START]' 'no' 'hay' 'senales' 'de' 'vida' 'en' 'marte' '.' '[END]']\n"
          ]
        },
        {
          "output_type": "execute_result",
          "data": {
            "text/plain": [
              "'[START] no hay senales de vida en marte . [END]'"
            ],
            "application/vnd.google.colaboratory.intrinsic+json": {
              "type": "string"
            }
          },
          "metadata": {},
          "execution_count": 19
        }
      ],
      "source": [
        "context_vocab = np.array(context_text_processor.get_vocabulary()) # Convierto el vocabulario de mi procesador en una array numpy\n",
        "print(context_vocab[:10])\n",
        "print(example_tokens[0].numpy())\n",
        "tokens = context_vocab[example_tokens[0].numpy()] # Extraigo el texto por medio de la secuencia de numeros de los tokens que entrega al procesar los textos de ejemplos del contexto de entrenamiento\n",
        "print(tokens)\n",
        "' '.join(tokens)"
      ]
    },
    {
      "cell_type": "code",
      "execution_count": null,
      "metadata": {
        "id": "_jx4Or_eFRSz",
        "colab": {
          "base_uri": "https://localhost:8080/",
          "height": 469
        },
        "outputId": "83d56b51-1e75-443a-c1dc-016e0a0ec6b6"
      },
      "outputs": [
        {
          "output_type": "execute_result",
          "data": {
            "text/plain": [
              "Text(0.5, 1.0, 'Mask')"
            ]
          },
          "metadata": {},
          "execution_count": 20
        },
        {
          "output_type": "display_data",
          "data": {
            "text/plain": [
              "<Figure size 640x480 with 2 Axes>"
            ],
            "image/png": "[encoded data removed]"
          },
          "metadata": {}
        }
      ],
      "source": [
        "plt.subplot(1, 2, 1)\n",
        "plt.pcolormesh(example_tokens.to_tensor())\n",
        "plt.title('Token IDs')\n",
        "\n",
        "plt.subplot(1, 2, 2)\n",
        "plt.pcolormesh(example_tokens.to_tensor() != 0)\n",
        "plt.title('Mask')"
      ]
    },
    {
      "cell_type": "code",
      "source": [
        "for context, target in train_raw.take(1):\n",
        "  target = target_text_processor(target)\n",
        "  print(target[:5,:])\n",
        "  print(target[:5,:-1])\n",
        "  print(target[:5,1:],'\\n')\n",
        "  print(tf.size(target))\n",
        "  print(tf.size(target[:,:-1]))\n",
        "  print(tf.size(target[:,1:]))"
      ],
      "metadata": {
        "colab": {
          "base_uri": "https://localhost:8080/"
        },
        "id": "QOVRDnDVYjRa",
        "outputId": "e404fae3-6718-41e0-bbb8-865c23e633ca"
      },
      "execution_count": null,
      "outputs": [
        {
          "output_type": "stream",
          "name": "stdout",
          "text": [
            "<tf.RaggedTensor [[2, 9, 38, 133, 920, 91, 93, 31, 134, 19, 95, 13, 859, 920, 106, 1109, 4,\n",
            "  3]                                                                      ,\n",
            " [2, 9, 233, 10, 674, 1330, 352, 1027, 601, 7, 80, 7, 5, 698, 7, 604, 201,\n",
            "  608, 4, 3]                                                              ,\n",
            " [2, 50, 54, 4844, 21, 90, 1, 16, 6, 941, 86, 230, 17, 4, 3],\n",
            " [2, 328, 67, 232, 7, 17, 4, 3], [2, 9, 904, 379, 14, 5, 1183, 3604, 4, 3]]>\n",
            "<tf.RaggedTensor [[2, 9, 38, 133, 920, 91, 93, 31, 134, 19, 95, 13, 859, 920, 106, 1109, 4],\n",
            " [2, 9, 233, 10, 674, 1330, 352, 1027, 601, 7, 80, 7, 5, 698, 7, 604, 201,\n",
            "  608, 4]                                                                 ,\n",
            " [2, 50, 54, 4844, 21, 90, 1, 16, 6, 941, 86, 230, 17, 4],\n",
            " [2, 328, 67, 232, 7, 17, 4], [2, 9, 904, 379, 14, 5, 1183, 3604, 4]]>\n",
            "<tf.RaggedTensor [[9, 38, 133, 920, 91, 93, 31, 134, 19, 95, 13, 859, 920, 106, 1109, 4, 3],\n",
            " [9, 233, 10, 674, 1330, 352, 1027, 601, 7, 80, 7, 5, 698, 7, 604, 201, 608,\n",
            "  4, 3]                                                                     ,\n",
            " [50, 54, 4844, 21, 90, 1, 16, 6, 941, 86, 230, 17, 4, 3],\n",
            " [328, 67, 232, 7, 17, 4, 3], [9, 904, 379, 14, 5, 1183, 3604, 4, 3]]> \n",
            "\n",
            "tf.Tensor(641, shape=(), dtype=int32)\n",
            "tf.Tensor(577, shape=(), dtype=int32)\n",
            "tf.Tensor(577, shape=(), dtype=int32)\n"
          ]
        }
      ]
    },
    {
      "cell_type": "markdown",
      "source": [
        "Se extraer el [END] y el [START] del target de los datos de entrenamiento debido a que para entrenar el modelo a keras se le pasa pares de (inputs, labels) por lo que toca separarlo para que en la construcción del modelo el aprenda la localizacion del token final [END] para la parte codificadora"
      ],
      "metadata": {
        "id": "zIgHFP-fcsUx"
      }
    },
    {
      "cell_type": "code",
      "execution_count": null,
      "metadata": {
        "id": "wk5tbZWQl5u1"
      },
      "outputs": [],
      "source": [
        "def process_text(context, target):\n",
        "  context = context_text_processor(context).to_tensor() # Convierte el procesamiento de los datos de contexto de entrenamiento en tensores para mayor eficiencia computacional\n",
        "  target = target_text_processor(target) # Proceso los datos de target de los datos de entrenamiento\n",
        "\n",
        "  targ_in = target[:,:-1].to_tensor() # Conversion a tensor de los datos de target de entrenamiento donde excluyo el ultimo valor del token de la columna que es [END]\n",
        "  targ_out = target[:,1:].to_tensor() # Conversion a tensor de los datos de target de entrenamiento donde excluyo el primer valor del token de la columna que es [START]\n",
        "\n",
        "  return (context, targ_in), targ_out\n",
        "\n",
        "\n",
        "train_ds = train_raw.map(process_text, tf.data.AUTOTUNE) # tf.data.AUTOTUNE ajusta de forma automatica la cantidad de recursos para acelerar la carga y la transformación de datos, optimizando así el rendimiento del pipeline de datos.\n",
        "val_ds = val_raw.map(process_text, tf.data.AUTOTUNE)"
      ]
    },
    {
      "cell_type": "code",
      "execution_count": null,
      "metadata": {
        "id": "woQBWAjLsJkr",
        "colab": {
          "base_uri": "https://localhost:8080/"
        },
        "outputId": "b47c1250-5d2b-4abc-bed0-04fafbd58731"
      },
      "outputs": [
        {
          "output_type": "stream",
          "name": "stdout",
          "text": [
            "[  2  10 116   5  99 613   4   3   0   0   0   0   0   0   0   0   0   0\n",
            "   0   0   0   0   0   0]\n",
            "[  2   9 262  39 607   4   0   0   0   0   0   0   0   0   0   0   0   0\n",
            "   0   0]\n",
            "[  9 262  39 607   4   3   0   0   0   0   0   0   0   0   0   0   0   0\n",
            "   0   0] \n",
            "\n",
            "(64, 24)\n",
            "(64, 20)\n",
            "(64, 20)\n"
          ]
        }
      ],
      "source": [
        "for (ex_context_tok, ex_tar_in), ex_tar_out in train_ds.take(1):\n",
        "  print(ex_context_tok[0, :].numpy())\n",
        "  print(ex_tar_in[0, :].numpy())\n",
        "  print(ex_tar_out[0, :].numpy(), '\\n')\n",
        "\n",
        "  print(ex_context_tok.numpy().shape)\n",
        "  print(ex_tar_in.numpy().shape)\n",
        "  print(ex_tar_out.numpy().shape)"
      ]
    },
    {
      "cell_type": "markdown",
      "source": [
        "![image.png](data:image/png;base64,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)"
      ],
      "metadata": {
        "id": "Vc8H88yJ6Vc8"
      }
    },
    {
      "cell_type": "markdown",
      "source": [
        "## Encoder"
      ],
      "metadata": {
        "id": "Bi-qkePvht0o"
      }
    },
    {
      "cell_type": "code",
      "source": [
        "latent_dim = 256 # Hace referencia a las unidades o estados ocultos en el estado interno de la LSTM o la GRU"
      ],
      "metadata": {
        "id": "15_MogapgyrB"
      },
      "execution_count": null,
      "outputs": []
    },
    {
      "cell_type": "markdown",
      "source": [
        "-> **merge_mode:** se utiliza para especificar como se fusionan las salidas de las capa RNN bidireccionales, donde se utilizan redes bidireccionales debido a que pueden capturar la información tanto anterior como posterior y entender el contexto de una secuencia"
      ],
      "metadata": {
        "id": "1KF2_8zQJBDS"
      }
    },
    {
      "cell_type": "markdown",
      "source": [
        "![image.png](data:image/png;base64,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)"
      ],
      "metadata": {
        "id": "-sT_vGmKI943"
      }
    },
    {
      "cell_type": "code",
      "execution_count": null,
      "metadata": {
        "id": "nZ2rI24i3jFg"
      },
      "outputs": [],
      "source": [
        "class Encoder(tf.keras.layers.Layer):\n",
        "  def __init__(self, text_processor, units):\n",
        "    super(Encoder, self).__init__()\n",
        "    self.text_processor = text_processor\n",
        "    self.vocab_size = text_processor.vocabulary_size() # 5000\n",
        "    self.units = units\n",
        "\n",
        "    # The embedding layer converts tokens to vectors\n",
        "    self.embedding = Embedding(self.vocab_size, units, mask_zero=True)\n",
        "\n",
        "    # The RNN layer processes those vectors sequentially.\n",
        "    self.rnn = tf.keras.layers.Bidirectional(merge_mode='sum', layer=GRU(units, # Return the sequence and state\n",
        "                                                                                  return_sequences=True, recurrent_initializer='glorot_uniform'))\n",
        "\n",
        "  def call(self, x):\n",
        "    shape_checker = ShapeChecker()\n",
        "    shape_checker(x, 'batch s')\n",
        "\n",
        "    # 2. The embedding layer looks up the embedding vector for each token.\n",
        "    x = self.embedding(x)\n",
        "    shape_checker(x, 'batch s units')\n",
        "\n",
        "    # 3. The GRU processes the sequence of embeddings.\n",
        "    x = self.rnn(x)\n",
        "    shape_checker(x, 'batch s units')\n",
        "    # 4. Returns the new sequence of embeddings.\n",
        "\n",
        "    return x\n",
        "\n",
        "  def convert_input(self, texts):\n",
        "    texts = tf.convert_to_tensor(texts)\n",
        "    if len(texts.shape) == 0:\n",
        "      texts = tf.convert_to_tensor(texts)[tf.newaxis]\n",
        "    context = self.text_processor(texts).to_tensor()\n",
        "    context = self(context)\n",
        "\n",
        "    return context"
      ]
    },
    {
      "cell_type": "code",
      "execution_count": null,
      "metadata": {
        "id": "60gSVh05Jl6l",
        "colab": {
          "base_uri": "https://localhost:8080/"
        },
        "outputId": "bd4eb9c9-26b4-4737-cfde-6035a45a0f83"
      },
      "outputs": [
        {
          "output_type": "stream",
          "name": "stdout",
          "text": [
            "Context tokens, shape (batch, s): (64, 24)\n",
            "Encoder output, shape (batch, s, units): (64, 24, 256)\n"
          ]
        }
      ],
      "source": [
        "# Encode the input sequence.\n",
        "encoder = Encoder(context_text_processor, latent_dim)\n",
        "ex_context = encoder(ex_context_tok)\n",
        "\n",
        "print(f'Context tokens, shape (batch, s): {ex_context_tok.shape}')\n",
        "print(f'Encoder output, shape (batch, s, units): {ex_context.shape}')"
      ]
    },
    {
      "cell_type": "markdown",
      "source": [
        "## Attention"
      ],
      "metadata": {
        "id": "j4XiPGvckOaq"
      }
    },
    {
      "cell_type": "markdown",
      "source": [
        "![image.png](data:image/png;base64,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)"
      ],
      "metadata": {
        "id": "TRXm07NOrPAX"
      }
    },
    {
      "cell_type": "code",
      "execution_count": null,
      "metadata": {
        "id": "-Ql3ymqwD8LS"
      },
      "outputs": [],
      "source": [
        "class CrossAttention(tf.keras.layers.Layer):\n",
        "  def __init__(self, units, **kwargs):\n",
        "    super().__init__()\n",
        "    self.mha = tf.keras.layers.MultiHeadAttention(key_dim=units, num_heads=1, **kwargs)\n",
        "    self.layernorm = tf.keras.layers.LayerNormalization() #Sirve para normalizar la salida del modelo donde tenga una media cercana a 0 y una varianza cercana a 1 para estabilizar y acelerar el entrenamiento\n",
        "    self.add = tf.keras.layers.Add()\n",
        "\n",
        "  def call(self, x, context):\n",
        "    shape_checker = ShapeChecker()\n",
        "\n",
        "    shape_checker(x, 'batch t units')\n",
        "    shape_checker(context, 'batch s units')\n",
        "\n",
        "    attn_output, attn_scores = self.mha(\n",
        "        query=x, # Operacion de consulta donde se tiene una representación tipo clave que se compara con otras claves para calcular la importancia de cada elemento\n",
        "        value=context,\n",
        "        return_attention_scores=True)\n",
        "\n",
        "    shape_checker(x, 'batch t units')\n",
        "    shape_checker(attn_scores, 'batch heads t s')\n",
        "\n",
        "    # Cache the attention scores for plotting later.\n",
        "    attn_scores = tf.reduce_mean(attn_scores, axis=1) #Promedia cada fila del tensor original\n",
        "    shape_checker(attn_scores, 'batch t s')\n",
        "    self.last_attention_weights = attn_scores\n",
        "\n",
        "    x = self.add([x, attn_output])\n",
        "    x = self.layernorm(x)\n",
        "\n",
        "    return x"
      ]
    },
    {
      "cell_type": "code",
      "execution_count": null,
      "metadata": {
        "id": "7y7hjPkNMmHh",
        "colab": {
          "base_uri": "https://localhost:8080/"
        },
        "outputId": "5fc77101-d516-41c8-adcb-c045aa8872e2"
      },
      "outputs": [
        {
          "output_type": "stream",
          "name": "stdout",
          "text": [
            "Context sequence, shape (batch, s, units): (64, 24, 256)\n",
            "Target sequence, shape (batch, t, units): (64, 20, 256)\n",
            "Attention result, shape (batch, t, units): (64, 20, 256)\n",
            "Attention weights, shape (batch, t, s):    (64, 20, 24)\n"
          ]
        }
      ],
      "source": [
        "attention_layer = CrossAttention(latent_dim)\n",
        "\n",
        "# Attend to the encoded tokens\n",
        "embed = Embedding(target_text_processor.vocabulary_size(), output_dim=latent_dim, mask_zero=True)\n",
        "ex_tar_embed = embed(ex_tar_in)\n",
        "\n",
        "result = attention_layer(ex_tar_embed, ex_context)\n",
        "\n",
        "print(f'Context sequence, shape (batch, s, units): {ex_context.shape}')\n",
        "print(f'Target sequence, shape (batch, t, units): {ex_tar_embed.shape}')\n",
        "print(f'Attention result, shape (batch, t, units): {result.shape}')\n",
        "print(f'Attention weights, shape (batch, t, s):    {attention_layer.last_attention_weights.shape}')"
      ]
    },
    {
      "cell_type": "code",
      "execution_count": null,
      "metadata": {
        "id": "zxyR7cmQPn9P",
        "colab": {
          "base_uri": "https://localhost:8080/"
        },
        "outputId": "333d2bc6-f48b-443f-dbc9-ad1f022e63fe"
      },
      "outputs": [
        {
          "output_type": "execute_result",
          "data": {
            "text/plain": [
              "array([1.        , 1.        , 1.        , 1.        , 1.        ,\n",
              "       0.99999994, 1.        , 1.        , 1.        , 1.        ,\n",
              "       1.        , 1.        , 1.        , 1.        , 1.        ,\n",
              "       1.        , 1.        , 1.        , 1.        , 1.        ],\n",
              "      dtype=float32)"
            ]
          },
          "metadata": {},
          "execution_count": 29
        }
      ],
      "source": [
        "attention_layer.last_attention_weights[0].numpy().sum(axis=-1)"
      ]
    },
    {
      "cell_type": "code",
      "execution_count": null,
      "metadata": {
        "id": "Rqr8XGsAJlf6",
        "colab": {
          "base_uri": "https://localhost:8080/",
          "height": 452
        },
        "outputId": "bdb9fdd6-bc86-4b73-c747-7efa53ded351"
      },
      "outputs": [
        {
          "output_type": "display_data",
          "data": {
            "text/plain": [
              "<Figure size 640x480 with 2 Axes>"
            ],
            "image/png": "[encoded data removed]"
          },
          "metadata": {}
        }
      ],
      "source": [
        "attention_weights = attention_layer.last_attention_weights\n",
        "mask=(ex_context_tok != 0).numpy()\n",
        "\n",
        "plt.subplot(1, 2, 1)\n",
        "plt.pcolormesh(mask*attention_weights[:, 0, :])\n",
        "plt.title('Attention weights')\n",
        "\n",
        "plt.subplot(1, 2, 2)\n",
        "plt.pcolormesh(mask)\n",
        "plt.title('Mask');\n"
      ]
    },
    {
      "cell_type": "markdown",
      "source": [
        "## Decoder"
      ],
      "metadata": {
        "id": "LH_ptOGik5q7"
      }
    },
    {
      "cell_type": "markdown",
      "source": [
        "![image.png](data:image/png;base64,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)"
      ],
      "metadata": {
        "id": "wszSlmfnoFDh"
      }
    },
    {
      "cell_type": "code",
      "execution_count": null,
      "metadata": {
        "id": "erYvHIgAl8kh"
      },
      "outputs": [],
      "source": [
        "class Decoder(tf.keras.layers.Layer):\n",
        "  @classmethod\n",
        "  def add_method(cls, fun):\n",
        "    setattr(cls, fun.__name__, fun)\n",
        "    return fun\n",
        "\n",
        "  def __init__(self, text_processor, units):\n",
        "    super(Decoder, self).__init__()\n",
        "    self.text_processor = text_processor\n",
        "    self.vocab_size = text_processor.vocabulary_size()\n",
        "    self.word_to_id = tf.keras.layers.StringLookup(\n",
        "        vocabulary=text_processor.get_vocabulary(),\n",
        "        mask_token='', oov_token='[UNK]')\n",
        "    self.id_to_word = tf.keras.layers.StringLookup(\n",
        "        vocabulary=text_processor.get_vocabulary(),\n",
        "        mask_token='', oov_token='[UNK]',\n",
        "        invert=True)\n",
        "    self.start_token = self.word_to_id('[START]')\n",
        "    self.end_token = self.word_to_id('[END]')\n",
        "\n",
        "    self.units = units\n",
        "\n",
        "\n",
        "    # 1. The embedding layer converts token IDs to vectors\n",
        "    self.embedding = Embedding(self.vocab_size, units, mask_zero=True)\n",
        "\n",
        "    # 2. The RNN keeps track of what's been generated so far.\n",
        "    self.rnn = GRU(units, return_sequences=True, return_state=True, recurrent_initializer='glorot_uniform')\n",
        "\n",
        "    # 3. The RNN output will be the query for the attention layer.\n",
        "    self.attention = CrossAttention(units)\n",
        "\n",
        "    # 4. This fully connected layer produces the logits for each\n",
        "    # output token.\n",
        "    self.output_layer = Dense(self.vocab_size)"
      ]
    },
    {
      "cell_type": "code",
      "execution_count": null,
      "metadata": {
        "id": "PJOi5btHAPNK"
      },
      "outputs": [],
      "source": [
        "@Decoder.add_method\n",
        "def call(self, context, x, state=None, return_state=False):\n",
        "\n",
        "  shape_checker = ShapeChecker()\n",
        "  shape_checker(x, 'batch t')\n",
        "  shape_checker(context, 'batch s units')\n",
        "\n",
        "  # 1. Lookup the embeddings\n",
        "  x = self.embedding(x)\n",
        "  shape_checker(x, 'batch t units')\n",
        "\n",
        "  # 2. Process the target sequence.\n",
        "  x, state = self.rnn(x, initial_state=state)\n",
        "  shape_checker(x, 'batch t units')\n",
        "\n",
        "  # 3. Use the RNN output as the query for the attention over the context.\n",
        "  x = self.attention(x, context)\n",
        "  self.last_attention_weights = self.attention.last_attention_weights\n",
        "  shape_checker(x, 'batch t units')\n",
        "  shape_checker(self.last_attention_weights, 'batch t s')\n",
        "\n",
        "  # Step 4. Generate logit predictions for the next token.\n",
        "  logits = self.output_layer(x)\n",
        "\n",
        "  shape_checker(logits, 'batch t target_vocab_size')\n",
        "\n",
        "  if return_state:\n",
        "    return logits, state\n",
        "  else:\n",
        "    return logits"
      ]
    },
    {
      "cell_type": "code",
      "execution_count": null,
      "metadata": {
        "id": "4ZUMbYXIEVeA"
      },
      "outputs": [],
      "source": [
        "decoder = Decoder(target_text_processor, latent_dim)"
      ]
    },
    {
      "cell_type": "code",
      "execution_count": null,
      "metadata": {
        "id": "5YM-lD7bzx18",
        "colab": {
          "base_uri": "https://localhost:8080/"
        },
        "outputId": "751f49a6-c9f7-46ac-d4e6-af7498153848"
      },
      "outputs": [
        {
          "output_type": "stream",
          "name": "stdout",
          "text": [
            "encoder output shape: (batch, s, units) (64, 24, 256)\n",
            "input target tokens shape: (batch, t) (64, 20)\n",
            "logits shape shape: (batch, target_vocabulary_size) (64, 20, 5000)\n"
          ]
        }
      ],
      "source": [
        "logits = decoder(ex_context, ex_tar_in)\n",
        "\n",
        "print(f'encoder output shape: (batch, s, units) {ex_context.shape}')\n",
        "print(f'input target tokens shape: (batch, t) {ex_tar_in.shape}')\n",
        "print(f'logits shape shape: (batch, target_vocabulary_size) {logits.shape}')"
      ]
    },
    {
      "cell_type": "code",
      "execution_count": null,
      "metadata": {
        "id": "SPm12cnIVRQr"
      },
      "outputs": [],
      "source": [
        "@Decoder.add_method\n",
        "def get_initial_state(self, context):\n",
        "  batch_size = tf.shape(context)[0]\n",
        "  start_tokens = tf.fill([batch_size, 1], self.start_token)\n",
        "  done = tf.zeros([batch_size, 1], dtype=tf.bool)\n",
        "  embedded = self.embedding(start_tokens)\n",
        "  return start_tokens, done, self.rnn.get_initial_state(embedded)[0]"
      ]
    },
    {
      "cell_type": "code",
      "execution_count": null,
      "metadata": {
        "id": "TzeOhpBvVS5L"
      },
      "outputs": [],
      "source": [
        "@Decoder.add_method\n",
        "def tokens_to_text(self, tokens):\n",
        "  words = self.id_to_word(tokens)\n",
        "  result = tf.strings.reduce_join(words, axis=-1, separator=' ')\n",
        "  result = tf.strings.regex_replace(result, '^ *\\[START\\] *', '')\n",
        "  result = tf.strings.regex_replace(result, ' *\\[END\\] *$', '')\n",
        "  return result"
      ]
    },
    {
      "cell_type": "code",
      "execution_count": null,
      "metadata": {
        "id": "v6ildnz_V1MA"
      },
      "outputs": [],
      "source": [
        "@Decoder.add_method\n",
        "def get_next_token(self, context, next_token, done, state, temperature = 0.0):\n",
        "  logits, state = self(\n",
        "    context, next_token,\n",
        "    state = state,\n",
        "    return_state=True)\n",
        "\n",
        "  if temperature == 0.0:\n",
        "    next_token = tf.argmax(logits, axis=-1)\n",
        "  else:\n",
        "    logits = logits[:, -1, :]/temperature\n",
        "    next_token = tf.random.categorical(logits, num_samples=1)\n",
        "\n",
        "  # If a sequence produces an `end_token`, set it `done`\n",
        "  done = done | (next_token == self.end_token)\n",
        "  # Once a sequence is done it only produces 0-padding.\n",
        "  next_token = tf.where(done, tf.constant(0, dtype=tf.int64), next_token)\n",
        "\n",
        "  return next_token, done, state"
      ]
    },
    {
      "cell_type": "code",
      "execution_count": null,
      "metadata": {
        "id": "SuehagxL-JBZ",
        "colab": {
          "base_uri": "https://localhost:8080/"
        },
        "outputId": "eb328995-808e-4dea-fac2-cd68fcbb9a29"
      },
      "outputs": [
        {
          "output_type": "execute_result",
          "data": {
            "text/plain": [
              "array([b'motorcycle wholl hell tunnel absent exception focused holds confess refugees',\n",
              "       b'along gains prohibited twin swept password crop spain mother steam',\n",
              "       b'introduce ships hurricane slim china unsuccessful year conditioner dead copy'],\n",
              "      dtype=object)"
            ]
          },
          "metadata": {},
          "execution_count": 38
        }
      ],
      "source": [
        "# Setup the loop variables.\n",
        "next_token, done, state = decoder.get_initial_state(ex_context)\n",
        "tokens = []\n",
        "\n",
        "for n in range(10):\n",
        "  # Run one step.\n",
        "  next_token, done, state = decoder.get_next_token(\n",
        "      ex_context, next_token, done, state, temperature=1.0)\n",
        "  # Add the token to the output.\n",
        "  tokens.append(next_token)\n",
        "\n",
        "# Stack all the tokens together.\n",
        "tokens = tf.concat(tokens, axis=-1) # (batch, t)\n",
        "\n",
        "# Convert the tokens back to a a string\n",
        "result = decoder.tokens_to_text(tokens)\n",
        "result[:3].numpy()"
      ]
    },
    {
      "cell_type": "markdown",
      "source": [
        "## Training"
      ],
      "metadata": {
        "id": "IJgb_yTBmqun"
      }
    },
    {
      "cell_type": "code",
      "execution_count": null,
      "metadata": {
        "id": "WWIyuy71TkJT"
      },
      "outputs": [],
      "source": [
        "class Translator(tf.keras.Model):     # definimos una clase llamada translator de la cual viene heredada de tf.keras.Model, se definine el metodo de clase add_method\n",
        "  @classmethod\n",
        "  def add_method(cls, fun):  #definimos dos argumentos que son cls, fun\n",
        "    setattr(cls, fun.__name__, fun)\n",
        "    return fun\n",
        "\n",
        "  def __init__(self, units, context_text_processor, target_text_processor): # inicializamos una instancia en la clase Traslator\n",
        "    super().__init__()\n",
        "    # Build the encoder and decoder\n",
        "    encoder = Encoder(context_text_processor, units)\n",
        "    decoder = Decoder(target_text_processor, units)   # es_processorto se hace para que los objetos esten disponobles a lo largo de la clase\n",
        "\n",
        "    self.encoder = encoder\n",
        "    self.decoder = decoder\n",
        "\n",
        "  def call(self, inputs):\n",
        "    context, x = inputs\n",
        "    context = self.encoder(context)\n",
        "    logits = self.decoder(context, x)# Continuation of the previous code\n",
        "\n",
        "    #TODO(b/250038731): remove this\n",
        "    try:\n",
        "      # Delete the keras mask, so keras doesn't scale the loss+accuracy.\n",
        "      del logits._keras_mask\n",
        "    except AttributeError:\n",
        "      pass\n",
        "\n",
        "    return logits"
      ]
    },
    {
      "cell_type": "code",
      "execution_count": null,
      "metadata": {
        "id": "8vhjTh84K6Mg",
        "colab": {
          "base_uri": "https://localhost:8080/"
        },
        "outputId": "eda607c0-133e-41d1-e62d-9e05f7f82181"
      },
      "outputs": [
        {
          "output_type": "stream",
          "name": "stdout",
          "text": [
            "Context tokens, shape: (batch, s, units) (64, 24)\n",
            "Target tokens, shape: (batch, t) (64, 20)\n",
            "logits, shape: (batch, t, target_vocabulary_size) (64, 20, 5000)\n"
          ]
        }
      ],
      "source": [
        "model = Translator(latent_dim, context_text_processor, target_text_processor)\n",
        "\n",
        "logits = model((ex_context_tok, ex_tar_in))\n",
        "\n",
        "print(f'Context tokens, shape: (batch, s, units) {ex_context_tok.shape}')\n",
        "print(f'Target tokens, shape: (batch, t) {ex_tar_in.shape}')\n",
        "print(f'logits, shape: (batch, t, target_vocabulary_size) {logits.shape}')"
      ]
    },
    {
      "cell_type": "code",
      "source": [
        "model.summary()"
      ],
      "metadata": {
        "colab": {
          "base_uri": "https://localhost:8080/"
        },
        "id": "04K_KAqGio-v",
        "outputId": "37b324c7-8f0c-4ca2-e799-1af2f9039fe2"
      },
      "execution_count": null,
      "outputs": [
        {
          "output_type": "stream",
          "name": "stdout",
          "text": [
            "Model: \"translator\"\n",
            "_________________________________________________________________\n",
            " Layer (type)                Output Shape              Param #   \n",
            "=================================================================\n",
            " encoder_1 (Encoder)         multiple                  2069504   \n",
            "                                                                 \n",
            " decoder_1 (Decoder)         multiple                  3223432   \n",
            "                                                                 \n",
            "=================================================================\n",
            "Total params: 5,292,936\n",
            "Trainable params: 5,292,936\n",
            "Non-trainable params: 0\n",
            "_________________________________________________________________\n"
          ]
        }
      ]
    },
    {
      "cell_type": "code",
      "execution_count": null,
      "metadata": {
        "id": "WmTHr5iV3jFr"
      },
      "outputs": [],
      "source": [
        "def masked_loss(y_true, y_pred):\n",
        "    # Calculate the loss for each item in the batch.\n",
        "    loss_fn = tf.keras.losses.SparseCategoricalCrossentropy(\n",
        "        from_logits=True, reduction='none')\n",
        "    loss = loss_fn(y_true, y_pred)\n",
        "\n",
        "    # Mask off the losses on padding.\n",
        "    mask = tf.cast(y_true != 0, loss.dtype)\n",
        "    loss *= mask\n",
        "\n",
        "    # Return the total.\n",
        "    return tf.reduce_sum(loss)/tf.reduce_sum(mask)"
      ]
    },
    {
      "cell_type": "code",
      "execution_count": null,
      "metadata": {
        "id": "nRB1CTmQWOIL"
      },
      "outputs": [],
      "source": [
        "def masked_acc(y_true, y_pred):\n",
        "    # Calculate the loss for each item in the batch.\n",
        "    y_pred = tf.argmax(y_pred, axis=-1)\n",
        "    y_pred = tf.cast(y_pred, y_true.dtype)\n",
        "\n",
        "    match = tf.cast(y_true == y_pred, tf.float32)\n",
        "    mask = tf.cast(y_true != 0, tf.float32)\n",
        "\n",
        "    return tf.reduce_sum(match)/tf.reduce_sum(mask)"
      ]
    },
    {
      "cell_type": "code",
      "execution_count": null,
      "metadata": {
        "id": "9g0DRRvm3l9X"
      },
      "outputs": [],
      "source": [
        "model.compile(optimizer='adam',\n",
        "              loss=masked_loss,\n",
        "              metrics=[masked_acc, masked_loss])"
      ]
    },
    {
      "cell_type": "code",
      "execution_count": null,
      "metadata": {
        "id": "BuP3_LFENMJG",
        "colab": {
          "base_uri": "https://localhost:8080/"
        },
        "outputId": "202c5095-eebb-473a-c0d5-73e8ba18e3f5"
      },
      "outputs": [
        {
          "output_type": "execute_result",
          "data": {
            "text/plain": [
              "{'expected_loss': 8.517193, 'expected_acc': 0.0002}"
            ]
          },
          "metadata": {},
          "execution_count": 45
        }
      ],
      "source": [
        "vocab_size = 1.0 * target_text_processor.vocabulary_size()\n",
        "\n",
        "{\"expected_loss\": tf.math.log(vocab_size).numpy(),\n",
        " \"expected_acc\": 1/vocab_size}"
      ]
    },
    {
      "cell_type": "code",
      "execution_count": null,
      "metadata": {
        "id": "8rJITfxEsHKR",
        "colab": {
          "base_uri": "https://localhost:8080/"
        },
        "outputId": "684b4777-380a-4201-90e6-10e95e65c5f2"
      },
      "outputs": [
        {
          "output_type": "stream",
          "name": "stdout",
          "text": [
            "20/20 [==============================] - 14s 174ms/step - loss: 8.5042 - masked_acc: 9.2593e-05 - masked_loss: 8.5042\n"
          ]
        },
        {
          "output_type": "execute_result",
          "data": {
            "text/plain": [
              "{'loss': 8.504217147827148,\n",
              " 'masked_acc': 9.259259240934625e-05,\n",
              " 'masked_loss': 8.504217147827148}"
            ]
          },
          "metadata": {},
          "execution_count": 46
        }
      ],
      "source": [
        "model.evaluate(val_ds, steps=20, return_dict=True)"
      ]
    },
    {
      "cell_type": "code",
      "execution_count": null,
      "metadata": {
        "id": "BQd_esVVoSf3",
        "colab": {
          "base_uri": "https://localhost:8080/"
        },
        "outputId": "3d019bc8-9188-4143-e36a-85d10a155ebb"
      },
      "outputs": [
        {
          "output_type": "stream",
          "name": "stdout",
          "text": [
            "Epoch 1/100\n",
            "100/100 [==============================] - 58s 486ms/step - loss: 5.0157 - masked_acc: 0.2591 - masked_loss: 5.0157 - val_loss: 4.0873 - val_masked_acc: 0.3573 - val_masked_loss: 4.0873\n",
            "Epoch 2/100\n",
            "100/100 [==============================] - 48s 485ms/step - loss: 3.7034 - masked_acc: 0.4010 - masked_loss: 3.7034 - val_loss: 3.3271 - val_masked_acc: 0.4489 - val_masked_loss: 3.3271\n",
            "Epoch 3/100\n",
            "100/100 [==============================] - 47s 472ms/step - loss: 3.1207 - masked_acc: 0.4821 - masked_loss: 3.1207 - val_loss: 2.8223 - val_masked_acc: 0.5200 - val_masked_loss: 2.8223\n",
            "Epoch 4/100\n",
            "100/100 [==============================] - 45s 452ms/step - loss: 2.6767 - masked_acc: 0.5402 - masked_loss: 2.6767 - val_loss: 2.4747 - val_masked_acc: 0.5705 - val_masked_loss: 2.4747\n",
            "Epoch 5/100\n",
            "100/100 [==============================] - 46s 464ms/step - loss: 2.4105 - masked_acc: 0.5803 - masked_loss: 2.4105 - val_loss: 2.1660 - val_masked_acc: 0.6139 - val_masked_loss: 2.1660\n",
            "Epoch 6/100\n",
            "100/100 [==============================] - 47s 474ms/step - loss: 2.1720 - masked_acc: 0.6145 - masked_loss: 2.1720 - val_loss: 2.0877 - val_masked_acc: 0.6238 - val_masked_loss: 2.0877\n",
            "Epoch 7/100\n",
            "100/100 [==============================] - 47s 473ms/step - loss: 2.0066 - masked_acc: 0.6389 - masked_loss: 2.0066 - val_loss: 1.8244 - val_masked_acc: 0.6648 - val_masked_loss: 1.8244\n",
            "Epoch 8/100\n",
            "100/100 [==============================] - 47s 474ms/step - loss: 1.8867 - masked_acc: 0.6554 - masked_loss: 1.8867 - val_loss: 1.8256 - val_masked_acc: 0.6608 - val_masked_loss: 1.8256\n",
            "Epoch 9/100\n",
            "100/100 [==============================] - 47s 472ms/step - loss: 1.7671 - masked_acc: 0.6736 - masked_loss: 1.7671 - val_loss: 1.6783 - val_masked_acc: 0.6841 - val_masked_loss: 1.6783\n",
            "Epoch 10/100\n",
            "100/100 [==============================] - 45s 453ms/step - loss: 1.6778 - masked_acc: 0.6855 - masked_loss: 1.6778 - val_loss: 1.6741 - val_masked_acc: 0.6834 - val_masked_loss: 1.6741\n",
            "Epoch 11/100\n",
            "100/100 [==============================] - 46s 458ms/step - loss: 1.6232 - masked_acc: 0.6921 - masked_loss: 1.6232 - val_loss: 1.5828 - val_masked_acc: 0.6963 - val_masked_loss: 1.5828\n",
            "Epoch 12/100\n",
            "100/100 [==============================] - 47s 469ms/step - loss: 1.5483 - masked_acc: 0.7022 - masked_loss: 1.5483 - val_loss: 1.5300 - val_masked_acc: 0.7002 - val_masked_loss: 1.5300\n",
            "Epoch 13/100\n",
            "100/100 [==============================] - 46s 463ms/step - loss: 1.5338 - masked_acc: 0.7059 - masked_loss: 1.5338 - val_loss: 1.4677 - val_masked_acc: 0.7095 - val_masked_loss: 1.4677\n",
            "Epoch 14/100\n",
            "100/100 [==============================] - 49s 491ms/step - loss: 1.4732 - masked_acc: 0.7166 - masked_loss: 1.4732 - val_loss: 1.4424 - val_masked_acc: 0.7197 - val_masked_loss: 1.4424\n",
            "Epoch 15/100\n",
            "100/100 [==============================] - 45s 447ms/step - loss: 1.3743 - masked_acc: 0.7267 - masked_loss: 1.3810 - val_loss: 1.4219 - val_masked_acc: 0.7227 - val_masked_loss: 1.4219\n",
            "Epoch 16/100\n",
            "100/100 [==============================] - 47s 468ms/step - loss: 1.2137 - masked_acc: 0.7463 - masked_loss: 1.2137 - val_loss: 1.3996 - val_masked_acc: 0.7252 - val_masked_loss: 1.3996\n",
            "Epoch 17/100\n",
            "100/100 [==============================] - 48s 479ms/step - loss: 1.2175 - masked_acc: 0.7439 - masked_loss: 1.2175 - val_loss: 1.3726 - val_masked_acc: 0.7263 - val_masked_loss: 1.3726\n",
            "Epoch 18/100\n",
            "100/100 [==============================] - 47s 474ms/step - loss: 1.1865 - masked_acc: 0.7502 - masked_loss: 1.1865 - val_loss: 1.3992 - val_masked_acc: 0.7201 - val_masked_loss: 1.3992\n",
            "Epoch 19/100\n",
            "100/100 [==============================] - 45s 450ms/step - loss: 1.1969 - masked_acc: 0.7491 - masked_loss: 1.1969 - val_loss: 1.3030 - val_masked_acc: 0.7390 - val_masked_loss: 1.3030\n",
            "Epoch 20/100\n",
            "100/100 [==============================] - 47s 470ms/step - loss: 1.1934 - masked_acc: 0.7505 - masked_loss: 1.1934 - val_loss: 1.3524 - val_masked_acc: 0.7309 - val_masked_loss: 1.3524\n",
            "Epoch 21/100\n",
            "100/100 [==============================] - 45s 455ms/step - loss: 1.1771 - masked_acc: 0.7524 - masked_loss: 1.1771 - val_loss: 1.2883 - val_masked_acc: 0.7448 - val_masked_loss: 1.2883\n",
            "Epoch 22/100\n",
            "100/100 [==============================] - 48s 482ms/step - loss: 1.1828 - masked_acc: 0.7529 - masked_loss: 1.1828 - val_loss: 1.3491 - val_masked_acc: 0.7309 - val_masked_loss: 1.3491\n",
            "Epoch 23/100\n",
            "100/100 [==============================] - 49s 491ms/step - loss: 1.1721 - masked_acc: 0.7532 - masked_loss: 1.1721 - val_loss: 1.3018 - val_masked_acc: 0.7388 - val_masked_loss: 1.3018\n",
            "Epoch 24/100\n",
            "100/100 [==============================] - 46s 455ms/step - loss: 1.1638 - masked_acc: 0.7573 - masked_loss: 1.1638 - val_loss: 1.2771 - val_masked_acc: 0.7449 - val_masked_loss: 1.2771\n",
            "Epoch 25/100\n",
            "100/100 [==============================] - 46s 457ms/step - loss: 1.1533 - masked_acc: 0.7575 - masked_loss: 1.1533 - val_loss: 1.2680 - val_masked_acc: 0.7409 - val_masked_loss: 1.2680\n",
            "Epoch 26/100\n",
            "100/100 [==============================] - 48s 482ms/step - loss: 1.1586 - masked_acc: 0.7550 - masked_loss: 1.1586 - val_loss: 1.2710 - val_masked_acc: 0.7375 - val_masked_loss: 1.2710\n",
            "Epoch 27/100\n",
            "100/100 [==============================] - 46s 464ms/step - loss: 1.1360 - masked_acc: 0.7579 - masked_loss: 1.1360 - val_loss: 1.2005 - val_masked_acc: 0.7520 - val_masked_loss: 1.2005\n",
            "Epoch 28/100\n",
            "100/100 [==============================] - 47s 464ms/step - loss: 1.1304 - masked_acc: 0.7600 - masked_loss: 1.1304 - val_loss: 1.2365 - val_masked_acc: 0.7489 - val_masked_loss: 1.2365\n",
            "Epoch 29/100\n",
            "100/100 [==============================] - 49s 487ms/step - loss: 1.1405 - masked_acc: 0.7600 - masked_loss: 1.1405 - val_loss: 1.1822 - val_masked_acc: 0.7527 - val_masked_loss: 1.1822\n",
            "Epoch 30/100\n",
            "100/100 [==============================] - 46s 457ms/step - loss: 1.0610 - masked_acc: 0.7682 - masked_loss: 1.0586 - val_loss: 1.2366 - val_masked_acc: 0.7448 - val_masked_loss: 1.2366\n",
            "Epoch 31/100\n",
            "100/100 [==============================] - 45s 447ms/step - loss: 0.8881 - masked_acc: 0.7959 - masked_loss: 0.8881 - val_loss: 1.1935 - val_masked_acc: 0.7538 - val_masked_loss: 1.1935\n",
            "Epoch 32/100\n",
            "100/100 [==============================] - 46s 459ms/step - loss: 0.9047 - masked_acc: 0.7919 - masked_loss: 0.9047 - val_loss: 1.2219 - val_masked_acc: 0.7498 - val_masked_loss: 1.2219\n"
          ]
        }
      ],
      "source": [
        "history = model.fit(\n",
        "    train_ds.repeat(),\n",
        "    epochs=100,\n",
        "    steps_per_epoch = 100,\n",
        "    validation_data = val_ds,\n",
        "    validation_steps = 20,\n",
        "    callbacks=[\n",
        "        tf.keras.callbacks.EarlyStopping(patience=3)])"
      ]
    },
    {
      "cell_type": "code",
      "execution_count": null,
      "metadata": {
        "id": "38rLdlmtQHCm",
        "colab": {
          "base_uri": "https://localhost:8080/",
          "height": 466
        },
        "outputId": "3cdd62aa-d5e9-4767-ba8f-566a0c869dd3"
      },
      "outputs": [
        {
          "output_type": "execute_result",
          "data": {
            "text/plain": [
              "<matplotlib.legend.Legend at 0x7fdf082792a0>"
            ]
          },
          "metadata": {},
          "execution_count": 48
        },
        {
          "output_type": "display_data",
          "data": {
            "text/plain": [
              "<Figure size 640x480 with 1 Axes>"
            ],
            "image/png": "[encoded data removed]"
          },
          "metadata": {}
        }
      ],
      "source": [
        "plt.plot(history.history['loss'], label='loss')\n",
        "plt.plot(history.history['val_loss'], label='val_loss')\n",
        "plt.ylim([0, max(plt.ylim())])\n",
        "plt.xlabel('Epoch #')\n",
        "plt.ylabel('CE/token')\n",
        "plt.legend()"
      ]
    },
    {
      "cell_type": "code",
      "execution_count": null,
      "metadata": {
        "id": "KkhXRASNG80_",
        "colab": {
          "base_uri": "https://localhost:8080/",
          "height": 466
        },
        "outputId": "743b3705-6960-4c59-d95e-305b95daeffb"
      },
      "outputs": [
        {
          "output_type": "execute_result",
          "data": {
            "text/plain": [
              "<matplotlib.legend.Legend at 0x7fdef1ca46a0>"
            ]
          },
          "metadata": {},
          "execution_count": 49
        },
        {
          "output_type": "display_data",
          "data": {
            "text/plain": [
              "<Figure size 640x480 with 1 Axes>"
            ],
            "image/png": "[encoded data removed]"
          },
          "metadata": {}
        }
      ],
      "source": [
        "plt.plot(history.history['masked_acc'], label='accuracy')\n",
        "plt.plot(history.history['val_masked_acc'], label='val_accuracy')\n",
        "plt.ylim([0, max(plt.ylim())])\n",
        "plt.xlabel('Epoch #')\n",
        "plt.ylabel('CE/token')\n",
        "plt.legend()"
      ]
    },
    {
      "cell_type": "code",
      "execution_count": null,
      "metadata": {
        "id": "mmgYPCVgEwp_"
      },
      "outputs": [],
      "source": [
        "#@title\n",
        "@Translator.add_method\n",
        "def translate(self,\n",
        "              texts, *,\n",
        "              max_length=50,\n",
        "              temperature=0.0):\n",
        "  # Process the input texts\n",
        "  context = self.encoder.convert_input(texts)\n",
        "  batch_size = tf.shape(texts)[0]\n",
        "\n",
        "  # Setup the loop inputs\n",
        "  tokens = []\n",
        "  attention_weights = []\n",
        "  next_token, done, state = self.decoder.get_initial_state(context)\n",
        "\n",
        "  for _ in range(max_length):\n",
        "    # Generate the next token\n",
        "    next_token, done, state = self.decoder.get_next_token(\n",
        "        context, next_token, done,  state, temperature)\n",
        "\n",
        "    # Collect the generated tokens\n",
        "    tokens.append(next_token)\n",
        "    attention_weights.append(self.decoder.last_attention_weights)\n",
        "\n",
        "    if tf.executing_eagerly() and tf.reduce_all(done):\n",
        "      break\n",
        "\n",
        "  # Stack the lists of tokens and attention weights.\n",
        "  tokens = tf.concat(tokens, axis=-1)   # t*[(batch 1)] -> (batch, t)\n",
        "  self.last_attention_weights = tf.concat(attention_weights, axis=1)  # t*[(batch 1 s)] -> (batch, t s)\n",
        "\n",
        "  result = self.decoder.tokens_to_text(tokens)\n",
        "  return result"
      ]
    },
    {
      "cell_type": "code",
      "source": [
        "result = model.translate(['¿Él todavía está en casa?']) # Are you still home\n",
        "result[0].numpy().decode()"
      ],
      "metadata": {
        "id": "6Liq6e61AAJu",
        "colab": {
          "base_uri": "https://localhost:8080/",
          "height": 35
        },
        "outputId": "8b49b34f-3e96-4e92-a186-ad83a5e70a57"
      },
      "execution_count": null,
      "outputs": [
        {
          "output_type": "execute_result",
          "data": {
            "text/plain": [
              "'is he still at home ? '"
            ],
            "application/vnd.google.colaboratory.intrinsic+json": {
              "type": "string"
            }
          },
          "metadata": {},
          "execution_count": 51
        }
      ]
    },
    {
      "cell_type": "code",
      "source": [
        "#@title\n",
        "@Translator.add_method\n",
        "def plot_attention(self, text, **kwargs):\n",
        "  assert isinstance(text, str)\n",
        "  output = self.translate([text], **kwargs)\n",
        "  output = output[0].numpy().decode()\n",
        "\n",
        "  attention = self.last_attention_weights[0]\n",
        "\n",
        "  context = tf_lower_and_split_punct(text)\n",
        "  context = context.numpy().decode().split()\n",
        "\n",
        "  output = tf_lower_and_split_punct(output)\n",
        "  output = output.numpy().decode().split()[1:]\n",
        "\n",
        "  fig = plt.figure(figsize=(10, 10))\n",
        "  ax = fig.add_subplot(1, 1, 1)\n",
        "\n",
        "  ax.matshow(attention, cmap='viridis', vmin=0.0)\n",
        "\n",
        "  fontdict = {'fontsize': 14}\n",
        "\n",
        "  ax.set_xticklabels([''] + context, fontdict=fontdict, rotation=90)\n",
        "  ax.set_yticklabels([''] + output, fontdict=fontdict)\n",
        "\n",
        "  ax.xaxis.set_major_locator(ticker.MultipleLocator(1))\n",
        "  ax.yaxis.set_major_locator(ticker.MultipleLocator(1))\n",
        "\n",
        "  ax.set_xlabel('Input text')\n",
        "  ax.set_ylabel('Output text')"
      ],
      "metadata": {
        "id": "pkNVcHTAmvik"
      },
      "execution_count": null,
      "outputs": []
    },
    {
      "cell_type": "code",
      "source": [
        "model.plot_attention('¿Todavía está en casa?') # Are you still home"
      ],
      "metadata": {
        "id": "CTx6ESV5mjDI",
        "colab": {
          "base_uri": "https://localhost:8080/",
          "height": 893
        },
        "outputId": "06c30749-d096-4ff3-858a-c59293b09258"
      },
      "execution_count": null,
      "outputs": [
        {
          "output_type": "stream",
          "name": "stderr",
          "text": [
            "<ipython-input-52-93059eaa9bfc>:23: UserWarning: FixedFormatter should only be used together with FixedLocator\n",
            "  ax.set_xticklabels([''] + context, fontdict=fontdict, rotation=90)\n",
            "<ipython-input-52-93059eaa9bfc>:24: UserWarning: FixedFormatter should only be used together with FixedLocator\n",
            "  ax.set_yticklabels([''] + output, fontdict=fontdict)\n"
          ]
        },
        {
          "output_type": "display_data",
          "data": {
            "text/plain": [
              "<Figure size 1000x1000 with 1 Axes>"
            ],
            "image/png": "[encoded data removed]"
          },
          "metadata": {}
        }
      ]
    },
    {
      "cell_type": "code",
      "source": [
        "inp = input(\"Ingresa un texto: \")\n",
        "\n",
        "result_translate = model.translate([inp])\n",
        "print(result_translate[0].numpy().decode())"
      ],
      "metadata": {
        "id": "qkLUjthQ25fL",
        "colab": {
          "base_uri": "https://localhost:8080/"
        },
        "outputId": "9b81d62a-32f3-423f-838d-2434a21b5c77"
      },
      "execution_count": null,
      "outputs": [
        {
          "output_type": "stream",
          "name": "stdout",
          "text": [
            "Ingresa un texto: Hola, ¿Cómo estás?\n",
            "hi , are you ? \n"
          ]
        }
      ]
    },
    {
      "cell_type": "code",
      "source": [
        "while True:\n",
        "  qt = input(\"¿Desea ingresar un texto?: \")\n",
        "  if qt == \"Si\":\n",
        "    user = input(\"Ingrese el texto: \")\n",
        "    result = model.translate([user])\n",
        "    print(result[0].numpy().decode())\n",
        "  else:\n",
        "    break\n"
      ],
      "metadata": {
        "id": "o71xUjEWCYyx",
        "colab": {
          "base_uri": "https://localhost:8080/"
        },
        "outputId": "2c2b5f6c-348c-4e4e-93a7-d0e9546b938d"
      },
      "execution_count": null,
      "outputs": [
        {
          "name": "stdout",
          "output_type": "stream",
          "text": [
            "¿Desea ingresar un texto?: Si\n",
            "Ingrese el texto: ¿Cómo estas?\n",
            "how are you ? \n",
            "¿Desea ingresar un texto?: n\n"
          ]
        }
      ]
    }
  ]
}